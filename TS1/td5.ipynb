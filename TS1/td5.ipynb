{
 "cells": [
  {
   "cell_type": "code",
   "execution_count": 118,
   "metadata": {},
   "outputs": [],
   "source": [
    "#! /usr/bin/env python\n",
    "\n",
    "# Load useful modules\n",
    "import numpy as np\n",
    "%matplotlib inline\n",
    "import matplotlib.pyplot as plt\n",
    "import scipy.io"
   ]
  },
  {
   "cell_type": "code",
   "execution_count": 119,
   "metadata": {},
   "outputs": [],
   "source": [
    "# 1. Load data from a .mat\n",
    "extreme = scipy.io.loadmat('./web/extreme_data.mat')\n",
    "\n",
    "rain = extreme['rain']\n",
    "rain2050 = extreme['rain2050']\n",
    "\n",
    "snow = extreme['snow']\n",
    "snow2050 = extreme['snow2050']\n",
    "\n",
    "iloc = 0 # pick Toronto"
   ]
  },
  {
   "cell_type": "code",
   "execution_count": 120,
   "metadata": {},
   "outputs": [
    {
     "data": {
      "image/png": "[encoded data removed]",
      "text/plain": [
       "<Figure size 864x288 with 2 Axes>"
      ]
     },
     "metadata": {},
     "output_type": "display_data"
    }
   ],
   "source": [
    "#1. plot the pdf\n",
    "\n",
    "def normhistogram(u,bins):\n",
    "    pdf, _ = np.histogram(u,bins)\n",
    "    pdf = pdf / ((bins[2]-bins[1])*len(u))\n",
    "    return pdf\n",
    "\n",
    "bins = np.arange(0.1,50,1.)\n",
    "pdf = normhistogram(rain[iloc],bins)\n",
    "pdf2 = normhistogram(rain2050[iloc],bins)\n",
    "\n",
    "plt.figure(figsize=(12.0,4.0))\n",
    "plt.subplot(1,2,1)\n",
    "plt.plot(rain[iloc],'-b');\n",
    "plt.ylim([0, 150])\n",
    "plt.ylabel('precipitation [mm]'); \n",
    "plt.xlabel('days');\n",
    "\n",
    "plt.subplot(1,2,2)\n",
    "plt.plot(0.5*(bins[:-1]+bins[1:]),pdf,'-b',linewidth=4.);\n",
    "plt.plot(0.5*(bins[:-1]+bins[1:]),pdf2,'-r',linewidth=4.,alpha=0.8);\n",
    "plt.ylabel('pdf'); \n",
    "plt.xlabel('precipitation [mm]'); \n",
    "\n"
   ]
  },
  {
   "cell_type": "code",
   "execution_count": 121,
   "metadata": {},
   "outputs": [
    {
     "name": "stdout",
     "output_type": "stream",
     "text": [
      "################\n",
      "mean rain change -2.72 %\n",
      "std rain change  10.82 %\n",
      "################\n",
      "mean snow change -40.94 %\n",
      "std snow change  -29.19 %\n",
      "################\n"
     ]
    }
   ],
   "source": [
    "print '################'\n",
    "# variation of mean and std of rain precipitation\n",
    "print 'mean rain change', np.round(100*(rain2050[iloc].mean() - rain[iloc].mean())/rain[iloc].mean(),2), '%'\n",
    "print 'std rain change ',np.round(100*(rain2050[iloc].std() - rain[iloc].std())/rain[iloc].std(),2), '%'\n",
    "\n",
    "# 3. variation of mean and std of snow precipitation\n",
    "print '################'\n",
    "print 'mean snow change', np.round(100*(snow2050[iloc].mean() - snow[iloc].mean())/snow[iloc].mean(),2), '%'\n",
    "print 'std snow change ', np.round(100*(snow2050[iloc].std() - snow[iloc].std())/snow[iloc].std(),2), '%'\n",
    "print '################'"
   ]
  },
  {
   "cell_type": "code",
   "execution_count": 122,
   "metadata": {},
   "outputs": [
    {
     "name": "stdout",
     "output_type": "stream",
     "text": [
      "days with rain     =  177.6086956521739\n",
      "days with snow     =  44.52173913043478\n",
      "95th percentile is  16.911552429199247 mm\n",
      "heavy precip. days =  18.26086956521739\n",
      "very wet days      =  14.217391304347826\n",
      "heavy snow days    =  3.9565217391304346\n"
     ]
    }
   ],
   "source": [
    "# 4. Precipitation indices for the historical period in Toronto\n",
    "dayswithrain = np.sum(rain[iloc]>0.1)/(len(rain[iloc])/365.)\n",
    "print 'days with rain     = ', dayswithrain\n",
    "\n",
    "dayswithsnow = np.sum(snow[iloc]>0.1)/(len(snow[iloc])/365.)\n",
    "print 'days with snow     = ', dayswithsnow\n",
    "\n",
    "#compute 95th percentile\n",
    "per95 = np.percentile(rain[iloc],95)\n",
    "print '95th percentile is ', per95, 'mm'\n",
    "heavypdays = np.sum(rain[iloc]>per95)/(len(rain[iloc])/365.)\n",
    "print 'heavy precip. days = ', heavypdays\n",
    "\n",
    "verywetdays = np.sum(rain[iloc]>20)/(len(rain[iloc])/365.)\n",
    "print 'very wet days      = ', verywetdays\n",
    "\n",
    "heavysnowdays = np.sum(snow[iloc]>5)/(len(snow[iloc])/365.)\n",
    "print 'heavy snow days    = ', heavysnowdays"
   ]
  },
  {
   "cell_type": "code",
   "execution_count": 123,
   "metadata": {},
   "outputs": [
    {
     "name": "stdout",
     "output_type": "stream",
     "text": [
      "days with rain     =  166.0\n",
      "days with snow     =  31.09\n",
      "95th percentile is  17.247132492065393 mm\n",
      "heavy precip. days =  18.27\n",
      "very wet days      =  14.64\n",
      "heavy snow days    =  1.82\n"
     ]
    }
   ],
   "source": [
    "# 5. Precipitation indices for the future period in Toronto\n",
    "dayswithrain2050 = np.sum(rain2050[iloc]>0.1)/(len(rain2050[iloc])/365.)\n",
    "print 'days with rain     = ', np.round(dayswithrain2050,2)\n",
    "\n",
    "dayswithsnow2050 = np.sum(snow2050[iloc]>0.1)/(len(snow2050[iloc])/365.)\n",
    "print 'days with snow     = ', np.round(dayswithsnow2050,2)\n",
    "\n",
    "#compute 95th percentile\n",
    "per95 = np.percentile(rain2050[iloc],95)\n",
    "print '95th percentile is ', per95, 'mm'\n",
    "heavypdays2050 = np.sum(rain2050[iloc]>per95)/(len(rain2050[iloc])/365.)\n",
    "print 'heavy precip. days = ', np.round(heavypdays2050,2)\n",
    "\n",
    "verywetdays2050 = np.sum(rain2050[iloc]>20)/(len(rain2050[iloc])/365.)\n",
    "print 'very wet days      = ', np.round(verywetdays2050,2)\n",
    "\n",
    "heavysnowdays2050 = np.sum(snow2050[iloc]>5)/(len(snow2050[iloc])/365.)\n",
    "print 'heavy snow days    = ', np.round(heavysnowdays2050,2)\n"
   ]
  },
  {
   "cell_type": "code",
   "execution_count": 124,
   "metadata": {},
   "outputs": [
    {
     "name": "stdout",
     "output_type": "stream",
     "text": [
      " \n",
      "change days with rain     =  -6.5 %\n",
      "change days with snow     =  -30.2 %\n",
      "change heavy precip. days =  0.1 %\n",
      "change very wet days      =  2.9 %\n",
      "change heavy snow days    =  -54.0 %\n"
     ]
    }
   ],
   "source": [
    "# 6. Variation\n",
    "print ' '\n",
    "print 'change days with rain     = ', np.round(100*(dayswithrain2050-dayswithrain)/dayswithrain,1), '%'\n",
    "print 'change days with snow     = ', np.round(100*(dayswithsnow2050-dayswithsnow)/dayswithsnow,1), '%'\n",
    "print 'change heavy precip. days = ', np.round(100*(heavypdays2050-heavypdays)/heavypdays,1), '%'\n",
    "print 'change very wet days      = ', np.round(100*(verywetdays2050-verywetdays)/verywetdays,1), '%'\n",
    "print 'change heavy snow days    = ', np.round(100*(heavysnowdays2050-heavysnowdays)/heavysnowdays,1), '%'\n"
   ]
  },
  {
   "cell_type": "markdown",
   "metadata": {
    "collapsed": true
   },
   "source": [
    "# 3. Analysis of extreme precipitation events"
   ]
  },
  {
   "cell_type": "code",
   "execution_count": 136,
   "metadata": {},
   "outputs": [],
   "source": [
    "genpareto.fit?\n"
   ]
  },
  {
   "cell_type": "code",
   "execution_count": 147,
   "metadata": {},
   "outputs": [
    {
     "name": "stdout",
     "output_type": "stream",
     "text": [
      "(0.21292793277861416, 5.004559992426087, 8.042879692180545)\n"
     ]
    },
    {
     "data": {
      "text/plain": [
       "<matplotlib.legend.Legend at 0x1a23c936d0>"
      ]
     },
     "execution_count": 147,
     "metadata": {},
     "output_type": "execute_result"
    },
    {
     "data": {
      "image/png": "[encoded data removed]",
      "text/plain": [
       "<Figure size 432x288 with 1 Axes>"
      ]
     },
     "metadata": {},
     "output_type": "display_data"
    }
   ],
   "source": [
    "# 1. pdf for precipitation in Ottawa\n",
    "# 2. pdf for the fitted gpd distribution\n",
    "\n",
    "from scipy.stats import genpareto\n",
    "\n",
    "iloc = 1;\n",
    "threshold = 5\n",
    "parfit =  genpareto.fit(rain[iloc][rain[iloc]>threshold],1, loc=0, scale=1)\n",
    "print parfit\n",
    "\n",
    "bins = np.arange(0.,250,1.)\n",
    "\n",
    "# plot the data\n",
    "fig = plt.figure(figsize=(6.0,4.0)); \n",
    "ax = plt.subplot(1,1,1)\n",
    "pdf = normhistogram(rain[iloc][rain[iloc]>threshold],bins)\n",
    "p1, = ax.plot(0.5*(bins[:-1]+bins[1:]),pdf,'-b');\n",
    "#ax.axis([0,50,0,0.2])\n",
    "\n",
    "# plot the fitted gpd distribution\n",
    "#ax = plt.subplot(1,2,2)\n",
    "p2, =ax.plot(bins, genpareto.pdf(bins, parfit[0],parfit[1],parfit[2]),'r-', lw=5, alpha=0.6, label='pareto pdf');\n",
    "#p3, =ax.plot(bins, genpareto.pdf(bins, 0,5,2),'y-', lw=5, alpha=0.6, label='pareto pdf');\n",
    "\n",
    "ax.axis([0,50,0,0.15])\n",
    "ax.legend([p1,p2],['data','gpd fit'],borderaxespad=0.)\n"
   ]
  },
  {
   "cell_type": "code",
   "execution_count": 131,
   "metadata": {},
   "outputs": [
    {
     "name": "stderr",
     "output_type": "stream",
     "text": [
      "/Users/gula/miniconda2/lib/python2.7/site-packages/ipykernel_launcher.py:6: RuntimeWarning: divide by zero encountered in long_scalars\n",
      "  \n"
     ]
    },
    {
     "data": {
      "image/png": "[encoded data removed]",
      "text/plain": [
       "<Figure size 432x288 with 1 Axes>"
      ]
     },
     "metadata": {},
     "output_type": "display_data"
    }
   ],
   "source": [
    "# 3. return period for precipitation in Ottawa\n",
    "\n",
    "\n",
    "p = []\n",
    "for exceed in range(threshold,250):\n",
    "    p.append(len(rain[iloc])/np.sum(rain[iloc]>exceed)/365.)\n",
    "    \n",
    "time = np.arange(len(rain[iloc])/365.)\n",
    "\n",
    "# remove duplicate points\n",
    "for i in range(len(p)-1):\n",
    "    if p[i+1]==p[i]: p[i] = np.nan\n",
    "\n",
    "# plot figure\n",
    "fig = plt.figure(figsize=(6.0,4.0)); ax = plt.subplot(1,1,1)\n",
    "ax.plot(p,range(threshold,250),'o')\n",
    "ax.grid(b=True, which='both', color='0.65',linestyle='-',linewidth=0.2)\n",
    "ax.set_xscale('log')\n",
    "ax.set_ylabel('Precipitation [mm]'); \n",
    "ax.set_xlabel('Return Period');\n"
   ]
  },
  {
   "cell_type": "code",
   "execution_count": 148,
   "metadata": {},
   "outputs": [
    {
     "name": "stdout",
     "output_type": "stream",
     "text": [
      "precipitation for the 100 yr return period is 192\n"
     ]
    },
    {
     "name": "stderr",
     "output_type": "stream",
     "text": [
      "/Users/gula/miniconda2/lib/python2.7/site-packages/ipykernel_launcher.py:8: RuntimeWarning: divide by zero encountered in double_scalars\n",
      "  \n"
     ]
    },
    {
     "data": {
      "text/plain": [
       "[<matplotlib.lines.Line2D at 0x1a23d6fe10>]"
      ]
     },
     "execution_count": 148,
     "metadata": {},
     "output_type": "execute_result"
    },
    {
     "data": {
      "image/png": "[encoded data removed]",
      "text/plain": [
       "<Figure size 432x288 with 1 Axes>"
      ]
     },
     "metadata": {},
     "output_type": "display_data"
    }
   ],
   "source": [
    "#4. return period for the fit\n",
    "p_gpd = []\n",
    "\n",
    "bins = np.arange(threshold,250)\n",
    "gpd = genpareto.pdf(bins, parfit[0],parfit[1],parfit[2]) * np.sum(rain[iloc]>threshold)\n",
    "\n",
    "for exceed in range(threshold,250):\n",
    "    p_gpd.append(1./np.sum(gpd[bins>exceed])*len(rain[iloc])/365.)\n",
    "    \n",
    "# plot figure\n",
    "fig = plt.figure(figsize=(6.0,4.0)); ax = plt.subplot(1,1,1)\n",
    "ax.plot(p,bins,'o')\n",
    "ax.plot(p_gpd,bins,'-',linewidth = 3.)\n",
    "ax.grid(b=True, which='both', color='0.65',linestyle='-',linewidth=0.2)\n",
    "ax.set_xscale('log')\n",
    "ax.set_ylabel('Precipitation [mm]'); \n",
    "ax.set_xlabel('Return Period');\n",
    "ax.set_xlim([0.01, 1000])\n",
    "\n",
    "# plot 100 yr return period\n",
    "p_gpd = np.array(p_gpd)\n",
    "print 'precipitation for the 100 yr return period is', bins[np.min(np.where(p_gpd>100))]\n",
    "ax.plot(p_gpd[np.min(np.where(p_gpd>100))], bins[np.min(np.where(p_gpd>100))],'*',markersize=12)\n",
    "\n"
   ]
  },
  {
   "cell_type": "code",
   "execution_count": 149,
   "metadata": {},
   "outputs": [
    {
     "name": "stdout",
     "output_type": "stream",
     "text": [
      "0 (0.19553280437585405, 5.004559993592915, 8.523467665254515)\n",
      "1 (0.20937636318790187, 5.004559993633507, 8.400800688806827)\n",
      "2 (0.10975542665415329, 5.004559988354359, 8.856247782888893)\n",
      "3 (0.18019798891663708, 5.004559534552573, 8.168797337211323)\n",
      "4 (0.7258465825003799, 5.010760783994472, 5.414341952739487)\n",
      "5 (0.1990193583875967, 5.006200313229861, 8.330602213740129)\n",
      "6 (0.0813324223342809, 4.901697831805757, 9.130358850686646)\n",
      "7 (0.23177030413405025, 5.006200313484857, 7.765274208437895)\n",
      "8 (0.2355638926103033, 5.004559993567751, 8.080337920641941)\n",
      "9 (0.1695939309005623, 5.004557076034287, 8.506813244069122)\n",
      "10 (0.18364926708027446, 5.00448608954691, 8.57915754278272)\n",
      "11 (0.23607013665718546, 5.004559980003499, 7.858601981121165)\n",
      "12 (0.17960575016059327, 5.004559993255603, 8.745347724101627)\n",
      "13 (0.7031548217562438, 5.004559993535189, 6.8983670162197885)\n",
      "14 (0.22910710492901548, 5.004549269389587, 7.924770417649854)\n",
      "15 (1.0606257320843917, 5.004559992797857, 5.404271328521402)\n",
      "16 (0.2480671072943248, 5.006200196095685, 7.418211427806348)\n",
      "17 (0.32414768681982875, 4.858646759092416, 7.542067877253967)\n",
      "18 (0.5373152029884856, 5.004559993457352, 6.666119400723093)\n",
      "19 (1.1936738918491188, 5.004559993546239, 5.516795431730836)\n",
      "20 (0.2044139376358337, 5.006200311694332, 8.570723047614528)\n",
      "21 (0.06842191443607787, 5.004559993668401, 8.922066058572515)\n",
      "22 (0.19801017584911174, 5.004559986186483, 8.301100324250655)\n",
      "23 (0.20739735374038487, 5.003887536254929, 8.246897486089066)\n",
      "24 (0.21583638930015625, 5.004559969644923, 8.078006616898353)\n",
      "25 (0.2553352733006019, 5.010760784021469, 7.629568262505877)\n",
      "26 (0.008626447141468319, 5.004559991375313, 11.779933677663422)\n",
      "27 (0.9087771344908846, 5.00620031347131, 5.967151617271783)\n",
      "28 (0.22378405719294098, 5.0045599931890745, 8.397251054143737)\n",
      "29 (0.1817549469125257, 5.004559993681593, 8.0517829621506)\n",
      "30 (0.3322963392153153, 5.004559993609108, 7.467995844474402)\n",
      "31 (0.0883763172783068, 5.009744166905973, 8.889177828256042)\n",
      "32 (0.19782220312288884, 5.004559993034324, 8.335508024558404)\n",
      "33 (0.2031671704623496, 5.004559947499796, 8.259154726820853)\n",
      "34 (0.2005624345225535, 5.004559989038739, 8.646578900013168)\n",
      "35 (0.21039034613532082, 5.006200296374114, 8.253358286993338)\n",
      "36 (0.283993988762795, 5.004559993718779, 7.446962536529808)\n",
      "37 (0.2687720137561627, 5.004559993731943, 7.768489640537983)\n",
      "38 (0.2102538247632505, 5.004559993491661, 8.187944713535583)\n",
      "39 (0.4106518302902318, 5.004559993669371, 6.845436481125455)\n",
      "40 (0.4628322931394776, 5.004559993665536, 6.914245853401496)\n",
      "41 (0.17531272719008062, 5.006200313159733, 8.273155096847653)\n",
      "42 (0.577496103864976, 5.004559993676301, 6.4717175949101104)\n",
      "43 (0.24426816831793258, 5.004559993724878, 7.881154306069564)\n",
      "44 (0.14721170447665688, 5.0045599819680575, 8.637973493730879)\n",
      "45 (0.24941036841205813, 5.006200312619788, 7.697008147174515)\n",
      "46 (0.1951847023046724, 5.004559993634749, 8.327793192083103)\n",
      "47 (0.23642994847193455, 5.00455999371213, 7.718308187239429)\n",
      "48 (0.17896806074761898, 5.004559993445892, 8.604800702966752)\n",
      "49 (0.18719180134255575, 5.006190857268233, 8.5524724822112)\n",
      "50 (1.453671635614815, 5.004559993327174, 5.12804929221803)\n",
      "51 (0.27226587571199123, 5.006156569110193, 8.132717929184459)\n",
      "52 (0.1291944519093024, 5.004559993133848, 9.218053330019153)\n",
      "53 (0.15822801413840223, 5.006200313421665, 8.705501100536118)\n",
      "54 (0.16802984440031143, 5.004559993654741, 8.965396442252349)\n",
      "55 (0.18459098957822534, 5.00455999362266, 8.238604434640948)\n",
      "56 (0.17627166765603686, 5.004559989630465, 8.227110364346288)\n",
      "57 (0.020736062252886427, 5.004559993171485, 9.696552636059804)\n",
      "58 (0.2442933211642907, 4.949747035335937, 7.879969362274775)\n",
      "59 (0.2165484485327384, 4.894481536821953, 7.971011661520826)\n",
      "60 (0.15079892115910942, 5.007533747598362, 8.880926192888467)\n",
      "61 (0.19469417080180845, 5.004559993364633, 8.197470785202277)\n",
      "62 (0.15789081883643047, 5.004559993731167, 8.32139139715303)\n",
      "63 (0.22042887354727236, 5.004424031980502, 7.886208521458041)\n",
      "64 (0.10138025007756572, 5.004559993736658, 8.97517634044215)\n",
      "65 (0.33962819819509826, 5.004559993724092, 9.88420350365708)\n",
      "66 (0.18198599942006083, 5.004559986237059, 8.036808895100261)\n",
      "67 (0.5672091705767071, 5.004559993690171, 5.966207555486861)\n",
      "68 (0.17499578400487686, 5.004559993382477, 8.120760217556573)\n",
      "69 (0.20688273321593031, 5.004559951975963, 8.449652721181039)\n",
      "70 (0.23718795478396598, 5.004559993525611, 8.171460310397745)\n",
      "71 (0.19634429967977632, 5.006200313273955, 8.232493076415878)\n",
      "72 (0.1927853539264654, 5.004559993152997, 8.361249861010613)\n",
      "73 (0.23526632008619758, 5.006200312314633, 7.978949111993744)\n",
      "74 (0.1822195202075784, 5.006200311651385, 8.45568785854007)\n",
      "75 (0.22814278688353729, 5.0045599880869425, 7.760627557497168)\n",
      "76 (0.1880923509338004, 5.006200307898029, 8.293206953757704)\n",
      "77 (0.23846260402467134, 4.998262888224598, 8.431536716221334)\n",
      "78 (0.11847876574856636, 4.984140707343116, 8.996821668219738)\n",
      "79 (0.2310819283806391, 5.004559992930606, 7.7435827794155125)\n",
      "80 (0.2537625495823512, 4.981512561400383, 7.627694586274222)\n",
      "81 (0.20974640648108006, 5.004559993627051, 8.317794051251436)\n",
      "82 (0.19578437130827064, 5.0045599879117475, 8.135149828493383)\n",
      "83 (0.21413169371693042, 5.004559993305284, 8.144027019193082)\n",
      "84 (0.33251819520338854, 5.004559993679242, 7.43147947048458)\n",
      "85 (0.2164710729809588, 5.0045599937439, 7.795846401145834)\n",
      "86 (0.21006407194819174, 5.004559993479685, 8.004696923875635)\n",
      "87 (0.21130077895531224, 5.004559993441621, 7.806656719878356)\n",
      "88 (0.2663980388222239, 5.004559993590937, 7.553562926718945)\n",
      "89 (0.20303150253932167, 5.007543487834951, 8.175340000873916)\n",
      "90 (0.1910275478715423, 5.007444109630512, 7.958700282098862)\n",
      "91 (0.13784688725947386, 5.004559993727447, 8.527419995686792)\n",
      "92 (0.22038003911039916, 5.004559937373934, 7.854360255861131)\n",
      "93 (-0.04592506754687868, 5.007543563657942, 10.161564276664773)\n",
      "94 (0.20346776825860668, 5.004559993068405, 7.914144745122343)\n",
      "95 (0.22348748722664868, 5.007543560836144, 7.998497896756385)\n",
      "96 (0.1876695724821607, 5.007543506545092, 8.325176482220463)\n",
      "97 (1.2822219285831737, 5.006200313277743, 5.787550786599057)\n",
      "98 (0.20924534450938898, 5.006200313566255, 8.325437103004418)\n",
      "99 (0.20761983804314904, 5.006200286214661, 8.326902101380028)\n"
     ]
    }
   ],
   "source": [
    "#90% confidence interval\n",
    "m = 100 # nb of bootstrap samples\n",
    "bins = np.arange(threshold,250)\n",
    "x = rain[iloc][rain[iloc]>threshold]\n",
    "n = len(x)\n",
    "\n",
    "p_boot = np.zeros((bins.shape[0],m))\n",
    "\n",
    "for iboot in range(m):\n",
    "    boots = np.array([x[np.random.randint(n)] for i in range(n)])\n",
    "    parfit =  genpareto.fit(boots[boots>threshold],1, loc=0, scale=1)\n",
    "    print iboot,parfit\n",
    "    #parfit =  genpareto.fit(boots,1, loc=0, scale=1)\n",
    "    gpd0 = genpareto.pdf(bins, parfit[0],parfit[1],parfit[2]) * np.sum(boots>threshold)\n",
    "    ib=-1\n",
    "    for exceed in range(threshold,250):\n",
    "        ib+=1\n",
    "        p_boot[ib,iboot] = np.sum(gpd0[bins>exceed])\n"
   ]
  },
  {
   "cell_type": "code",
   "execution_count": 150,
   "metadata": {},
   "outputs": [
    {
     "name": "stderr",
     "output_type": "stream",
     "text": [
      "/Users/gula/miniconda2/lib/python2.7/site-packages/ipykernel_launcher.py:9: RuntimeWarning: divide by zero encountered in divide\n",
      "  if __name__ == '__main__':\n"
     ]
    }
   ],
   "source": [
    "#method 1\n",
    "ci = np.zeros((3,len(bins)))\n",
    "p_ci = np.zeros((3,len(bins)))\n",
    "\n",
    "for ib in range(len(bins)):\n",
    "    ci[0,ib] =  np.percentile(p_boot[ib,:],20)\n",
    "    ci[1,ib] =  np.percentile(p_boot[ib,:],80)\n",
    "    ci[2,ib] =  np.median(p_boot[ib,:])\n",
    "    p_ci[:,ib] = 1./ci[:,ib]*len(rain[iloc])/365.\n",
    "    \n",
    "#method 2\n",
    "#p_ci2 = np.zeros((3,len(bins)))\n",
    "#for ib in range(len(bins)):\n",
    "#    p_ci2[0,ib] =  np.percentile(1./p_boot[ib,:]*len(rain[iloc])/365.  ,15)\n",
    "#    p_ci2[1,ib] =  np.percentile(1./p_boot[ib,:]*len(rain[iloc])/365.  ,85)\n",
    "#    p_ci2[2,ib] =  np.median(1./p_boot[ib,:]*len(rain[iloc])/365.)"
   ]
  },
  {
   "cell_type": "code",
   "execution_count": 151,
   "metadata": {},
   "outputs": [
    {
     "name": "stdout",
     "output_type": "stream",
     "text": [
      "precipitation for the 100 yr return period is 192\n"
     ]
    },
    {
     "data": {
      "text/plain": [
       "[<matplotlib.lines.Line2D at 0x1a23f45790>]"
      ]
     },
     "execution_count": 151,
     "metadata": {},
     "output_type": "execute_result"
    },
    {
     "data": {
      "image/png": "[encoded data removed]",
      "text/plain": [
       "<Figure size 432x288 with 1 Axes>"
      ]
     },
     "metadata": {},
     "output_type": "display_data"
    }
   ],
   "source": [
    "\n",
    "# plot figure\n",
    "fig = plt.figure(figsize=(6.0,4.0)); ax = plt.subplot(1,1,1)\n",
    "ax.plot(p,bins,'o')\n",
    "ax.plot(p_gpd,bins,'-',linewidth = 3.)\n",
    "'''\n",
    "test = genpareto.pdf(bins, 0.01,parfit[1],parfit[2]) * np.sum(boots>threshold)\n",
    "p_test = []\n",
    "for exceed in range(threshold,250):\n",
    "    p_test.append(1./np.sum(test[bins>exceed])*len(rain[iloc])/365.)\n",
    "\n",
    "ax.plot(p_test,bins,'-',linewidth = 3.)\n",
    "'''\n",
    "ax.grid(b=True, which='both', color='0.65',linestyle='-',linewidth=0.2)\n",
    "ax.set_xscale('log')\n",
    "ax.set_ylabel('Precipitation [mm]'); \n",
    "ax.set_xlabel('Return Period');\n",
    "ax.set_xlim([0.01, 1000])\n",
    "\n",
    "# plot 100 yr return period\n",
    "p_gpd = np.array(p_gpd)\n",
    "print 'precipitation for the 100 yr return period is', bins[np.min(np.where(p_gpd>100))]\n",
    "ax.plot(p_gpd[np.min(np.where(p_gpd>100))], bins[np.min(np.where(p_gpd>100))],'*',markersize=12)\n",
    "\n",
    "ax.plot(p_ci[0,:],bins,'--',linewidth = 1.)\n",
    "ax.plot(p_ci[1,:],bins,'--',linewidth = 1.)\n",
    "#ax.plot(p_ci[2,:],bins,'-',linewidth = 2.)\n"
   ]
  },
  {
   "cell_type": "code",
   "execution_count": 152,
   "metadata": {},
   "outputs": [
    {
     "name": "stderr",
     "output_type": "stream",
     "text": [
      "/Users/gula/miniconda2/lib/python2.7/site-packages/ipykernel_launcher.py:8: RuntimeWarning: divide by zero encountered in long_scalars\n",
      "  \n",
      "/Users/gula/miniconda2/lib/python2.7/site-packages/ipykernel_launcher.py:20: RuntimeWarning: divide by zero encountered in double_scalars\n"
     ]
    },
    {
     "data": {
      "text/plain": [
       "(0.01, 100)"
      ]
     },
     "execution_count": 152,
     "metadata": {},
     "output_type": "execute_result"
    },
    {
     "data": {
      "image/png": "[encoded data removed]",
      "text/plain": [
       "<Figure size 432x288 with 1 Axes>"
      ]
     },
     "metadata": {},
     "output_type": "display_data"
    }
   ],
   "source": [
    "#7. return period for the fit\n",
    "\n",
    "# data\n",
    "threshold = 5\n",
    "bins2050 = np.arange(threshold,250)\n",
    "p2050 = []\n",
    "for exceed in range(threshold,250):\n",
    "    p2050.append(len(rain2050[iloc])/np.sum(rain2050[iloc]>exceed)/365.)\n",
    "\n",
    "# remove duplicate points\n",
    "for i in range(len(p2050)-1):\n",
    "    if p2050[i+1]==p2050[i]: p2050[i] = np.nan\n",
    "\n",
    "# fit\n",
    "p_gpd2050 = []\n",
    "parfit =  genpareto.fit(rain2050[iloc][rain2050[iloc]>threshold],1, loc=0, scale=1)\n",
    "gpd = genpareto.pdf(bins, parfit[0],parfit[1],parfit[2]) * np.sum(rain2050[iloc]>threshold)\n",
    "\n",
    "for exceed in range(threshold,250):\n",
    "    p_gpd2050.append(1./np.sum(gpd[bins>exceed])*len(rain2050[iloc])/365.)\n",
    "    \n",
    "    \n",
    "# plot figure\n",
    "fig = plt.figure(figsize=(6.0,4.0)); ax = plt.subplot(1,1,1)\n",
    "ax.plot(p,bins,'ob')\n",
    "ax.plot(p2050,bins2050,'or')\n",
    "ax.plot(p_gpd,bins,'-b',linewidth = 3.)\n",
    "ax.plot(p_gpd2050,bins2050,'-r',linewidth = 3.)\n",
    "ax.grid(b=True, which='both', color='0.65',linestyle='-',linewidth=0.2)\n",
    "ax.set_xscale('log')\n",
    "ax.set_ylabel('Precipitation [mm]'); \n",
    "ax.set_xlabel('Return Period');\n",
    "ax.set_xlim([0.01, 100])\n"
   ]
  },
  {
   "cell_type": "code",
   "execution_count": null,
   "metadata": {},
   "outputs": [],
   "source": []
  },
  {
   "cell_type": "code",
   "execution_count": null,
   "metadata": {},
   "outputs": [],
   "source": []
  },
  {
   "cell_type": "code",
   "execution_count": null,
   "metadata": {},
   "outputs": [],
   "source": []
  },
  {
   "cell_type": "code",
   "execution_count": null,
   "metadata": {},
   "outputs": [],
   "source": []
  },
  {
   "cell_type": "code",
   "execution_count": null,
   "metadata": {
    "collapsed": true
   },
   "outputs": [],
   "source": []
  },
  {
   "cell_type": "code",
   "execution_count": null,
   "metadata": {
    "collapsed": true
   },
   "outputs": [],
   "source": []
  },
  {
   "cell_type": "code",
   "execution_count": null,
   "metadata": {
    "collapsed": true
   },
   "outputs": [],
   "source": []
  },
  {
   "cell_type": "code",
   "execution_count": null,
   "metadata": {
    "collapsed": true
   },
   "outputs": [],
   "source": []
  },
  {
   "cell_type": "code",
   "execution_count": null,
   "metadata": {
    "collapsed": true
   },
   "outputs": [],
   "source": []
  }
 ],
 "metadata": {
  "kernelspec": {
   "display_name": "Python 2",
   "language": "python",
   "name": "python2"
  },
  "language_info": {
   "codemirror_mode": {
    "name": "ipython",
    "version": 2
   },
   "file_extension": ".py",
   "mimetype": "text/x-python",
   "name": "python",
   "nbconvert_exporter": "python",
   "pygments_lexer": "ipython2",
   "version": "2.7.14"
  }
 },
 "nbformat": 4,
 "nbformat_minor": 1
}
