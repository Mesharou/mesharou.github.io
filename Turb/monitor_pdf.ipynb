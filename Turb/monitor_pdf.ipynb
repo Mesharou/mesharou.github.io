{
 "cells": [
  {
   "cell_type": "code",
   "execution_count": null,
   "metadata": {
    "collapsed": true
   },
   "outputs": [],
   "source": [
    "import numpy as np\n",
    "from netCDF4 import Dataset\n",
    "import os\n",
    "from matplotlib import pyplot as plt\n",
    "import matplotlib as mpl\n",
    "plt.ion()"
   ]
  },
  {
   "cell_type": "code",
   "execution_count": null,
   "metadata": {
    "collapsed": true
   },
   "outputs": [],
   "source": [
    "\n",
    "mpl.rcParams['image.cmap'] = 'RdBu_r'\n",
    "mpl.rcParams['figure.figsize'] = [12.0, 8.0]\n",
    "mpl.rcParams['figure.dpi'] = 80\n",
    "mpl.rcParams['savefig.dpi'] = 100\n",
    "\n",
    "mpl.rcParams['font.size'] = 14\n",
    "mpl.rcParams['legend.fontsize'] = 'large'\n",
    "mpl.rcParams['figure.titlesize'] = 'medium'\n",
    "\n",
    "mpl.rcParams['lines.linewidth'] = 2\n",
    "mpl.rcParams['image.origin'] = 'lower'\n",
    "mpl.rcParams['image.interpolation'] = 'nearest'\n"
   ]
  },
  {
   "cell_type": "code",
   "execution_count": null,
   "metadata": {},
   "outputs": [],
   "source": [
    "exp = 'turb2d_forced_ls'#fd_01'\n",
    "#exp = 'fd_00'\n",
    "ncfile = os.getenv(\"HOME\")+'/data/fluid2d/{0}/{0}_his.nc'.format(exp)\n",
    "print(ncfile)"
   ]
  },
  {
   "cell_type": "code",
   "execution_count": null,
   "metadata": {
    "collapsed": true
   },
   "outputs": [],
   "source": [
    "with Dataset(ncfile) as nc:\n",
    "    psi = nc['psi'][:, :, :]\n",
    "    vor = nc['vorticity'][:, :, :]\n",
    "    trac = nc['tracer'][:, :, :]\n",
    "    time = nc['t'][:]\n",
    "    x = nc['x'][:]\n",
    "    y = nc['y'][:]\n",
    "dx = x[1]-x[0]\n",
    "dy = y[1]-y[0]"
   ]
  },
  {
   "cell_type": "code",
   "execution_count": null,
   "metadata": {
    "collapsed": true
   },
   "outputs": [],
   "source": [
    "z3d = trac"
   ]
  },
  {
   "cell_type": "code",
   "execution_count": null,
   "metadata": {
    "collapsed": true
   },
   "outputs": [],
   "source": [
    "mini = z3d.min()\n",
    "maxi = z3d.max()\n",
    "bins = np.linspace(mini, maxi, 100)"
   ]
  },
  {
   "cell_type": "code",
   "execution_count": null,
   "metadata": {},
   "outputs": [],
   "source": [
    "nt = len(time)\n",
    "for k in range(0, nt, 10):\n",
    "    t = time[k]\n",
    "    h, x = np.histogram(z3d[k].ravel(), bins, normed=True)\n",
    "    plt.plot(x[1:],h, label='t=%.0f' % t)\n",
    "plt.xlabel('c')\n",
    "plt.ylabel('P.D.F. of c')\n",
    "plt.legend()\n",
    "plt.title(exp)"
   ]
  },
  {
   "cell_type": "code",
   "execution_count": null,
   "metadata": {
    "collapsed": true
   },
   "outputs": [],
   "source": [
    "def grad(f, dx, axis=0, flip=False):\n",
    "    if flip:\n",
    "        # return i minus i-1 at i\n",
    "        gx = (f-np.roll(f, 1, axis=axis))/dx\n",
    "    else:\n",
    "        # return i+1 minus i at i\n",
    "        gx = (np.roll(f, -1, axis=axis)-f)/dx\n",
    "    return gx\n"
   ]
  },
  {
   "cell_type": "code",
   "execution_count": null,
   "metadata": {},
   "outputs": [],
   "source": [
    "nt = len(time)\n",
    "grad2 = np.zeros((nt,))\n",
    "C2 = np.zeros((nt,))\n",
    "\n",
    "for k in range(nt):\n",
    "    phi = z3d[k]\n",
    "    grad2[k] = (grad(phi, dx, axis=1)**2).mean() + (grad(phi, dy, axis=0)**2).mean()\n",
    "    C2[k] = 0.5 * (phi**2).mean()\n",
    "plt.semilogy(time, C2/grad2)\n",
    "plt.xlabel('time')\n",
    "plt.ylabel(r'$\\kappa_e$')\n"
   ]
  },
  {
   "cell_type": "code",
   "execution_count": null,
   "metadata": {},
   "outputs": [],
   "source": [
    "plt.semilogy(time, C2, label=r'$C_2$')\n",
    "plt.semilogy(time,grad2*1e-3, label=r'$||\\nabla\\phi||^2$ (x$10^3$)')\n",
    "plt.xlabel('time')\n",
    "plt.legend()"
   ]
  },
  {
   "cell_type": "code",
   "execution_count": null,
   "metadata": {},
   "outputs": [],
   "source": [
    "# check the x-component of grad phi squared\n",
    "plt.imshow(grad(phi, dx, axis=1)**2)"
   ]
  },
  {
   "cell_type": "code",
   "execution_count": null,
   "metadata": {
    "collapsed": true
   },
   "outputs": [],
   "source": []
  }
 ],
 "metadata": {
  "kernelspec": {
   "display_name": "Python 3",
   "language": "python",
   "name": "python3"
  },
  "language_info": {
   "codemirror_mode": {
    "name": "ipython",
    "version": 3
   },
   "file_extension": ".py",
   "mimetype": "text/x-python",
   "name": "python",
   "nbconvert_exporter": "python",
   "pygments_lexer": "ipython3",
   "version": "3.6.8"
  }
 },
 "nbformat": 4,
 "nbformat_minor": 2
}
