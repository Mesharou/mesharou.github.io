{
 "cells": [
  {
   "cell_type": "code",
   "execution_count": 39,
   "metadata": {},
   "outputs": [],
   "source": [
    "%matplotlib inline\n",
    "import numpy as np\n",
    "import matplotlib.pyplot as plt\n",
    "import netCDF4\n",
    "#import cmocean as cmo\n",
    "#import octant\n",
    "\n",
    "\n",
    "# some tools to interpolate croco outputs vertically\n",
    "######################\n",
    "import sys\n",
    "sys.path.append(\"/home/gula/Desktop/Work_capella/Python/Python_Modules_p3/\") \n",
    "import tools as to\n"
   ]
  },
  {
   "cell_type": "markdown",
   "metadata": {},
   "source": [
    "# 1. Make density field"
   ]
  },
  {
   "cell_type": "code",
   "execution_count": 40,
   "metadata": {},
   "outputs": [],
   "source": [
    "def calc_den(salt,temp):\n",
    "    '''\n",
    "    Stratification properties are conservative through \n",
    "    a linear equation of state:\n",
    "\n",
    "       R0 == 1027.0d0                   ! kg/m3\n",
    "       T0 == 25.0d0                      ! Celsius\n",
    "       S0 == 35.0d0                     ! PSU\n",
    "    TCOEF == 1.7d-4                     ! 1/Celsius\n",
    "    SCOEF == 7.6d-4                     ! 1/PSU\n",
    "    '''\n",
    "    return 1027.*(1.+7.6e-4*(salt-35.)-1.7e-4*(temp-25.))"
   ]
  },
  {
   "cell_type": "code",
   "execution_count": 41,
   "metadata": {},
   "outputs": [
    {
     "name": "stdout",
     "output_type": "stream",
     "text": [
      "Ri -> 9.632700154535291 2.138376314480912e+19\n",
      "Density -> 1031.364749999786 1003.6043134627004\n"
     ]
    }
   ],
   "source": [
    "# EOS parameters\n",
    "R0=1027.0\n",
    "T0=25.0\n",
    "S0=35.0\n",
    "TCOEF=1.7e-4\n",
    "SCOEF=7.6e-4\n",
    "\n",
    "\n",
    "# Front parameters\n",
    "M20_R=1e-6\n",
    "M2_yo=120e3 \n",
    "M2_r=5e3\n",
    "\n",
    "N20=2e-3\n",
    "N2_zo=65.0\n",
    "N2_r=5.0\n",
    "\n",
    "\n",
    "# Grid parameters\n",
    "theta_s = 0.4\n",
    "theta_b = 0.4\n",
    "hc = 5.\n",
    "Vtransform=1\n",
    "Vstretching=1\n",
    "s_rho = 64\n",
    "\n",
    "grd = netCDF4.Dataset('./croco_grd.nc') \n",
    "g = 9.8\n",
    "y_rho = grd['y_rho'][:,:]\n",
    "pm = grd['pm'][:,:]\n",
    "pn = grd['pn'][:,:]\n",
    "f = grd['f'][0,0]\n",
    "dy = grd['y_rho'][1,0] - grd['y_rho'][0,0]  # assume constant grid spacing.\n",
    "\n",
    "\n",
    "\n",
    "#z = octant.depths.get_zrho(Vtransform, Vstretching, s_rho, theta_s, theta_b, grd['h'][:], hc)\n",
    "#Hz = octant.depths.get_Hz(Vtransform, Vstretching, s_rho, theta_s, theta_b, grd['h'][:], hc)\n",
    "\n",
    "z = to.zlevsold(grd['h'][:],grd['h'][:]*0.,theta_s,theta_b,hc,s_rho,'r','new2008')\n",
    "z_w = to.zlevsold(grd['h'][:],grd['h'][:]*0.,theta_s,theta_b,hc,s_rho,'w','new2008')\n",
    "Hz = z_w[1:,:,:] - z_w[:-1,:,:]; \n",
    "\n",
    "# Horizontal stratification is controlled by salinity (only)\n",
    "M2 = np.ones_like(y_rho)*M20_R\n",
    "M2[y_rho > M2_yo] = M20_R * np.exp( (M2_yo - y_rho[y_rho > M2_yo]) / M2_r )\n",
    "\n",
    "s = np.cumsum(M2 * dy / (g * SCOEF), axis=0)\n",
    "s -= s[-1] - S0\n",
    "s = s * np.ones((s_rho, 1, 1), 'd')\n",
    "\n",
    "M2 = M2*np.ones_like(z)\n",
    "\n",
    "\n",
    "# Vertical stratification is controlled by temperature (only)\n",
    "N2 = N20 * np.exp((N2_zo + z) / N2_r )\n",
    "N2[z > -N2_zo] = N20\n",
    "\n",
    "t = np.zeros_like(s)\n",
    "for n in range(s_rho):\n",
    "    t[n] = - np.trapz(N2[n:] / (g * TCOEF), x=z[n:], axis=0)\n",
    "\n",
    "t = t - np.min(t)\n",
    "\n",
    "# calculate density\n",
    "density = calc_den(s, t)\n",
    "\n",
    "print(\"Ri ->\", np.min(N2*f**2/(M2**2)), np.max(N2*f**2/(M2**2)))\n",
    "print(\"Density ->\", np.max(density), np.min(density))"
   ]
  },
  {
   "cell_type": "markdown",
   "metadata": {},
   "source": [
    "# 2. Calculate relative vorticity, N2, M2, Ro, and Ri"
   ]
  },
  {
   "cell_type": "code",
   "execution_count": 31,
   "metadata": {},
   "outputs": [],
   "source": [
    "u_z = M2 * Hz / f\n",
    "u = np.cumsum(u_z, axis=0)\n",
    "ubottom = np.zeros((1, u.shape[1], u.shape[2]))\n",
    "u = np.concatenate( (ubottom, u) )\n",
    "u = 0.5*(u[1:]+u[:-1])\n",
    "\n",
    "#dudx, dudy = octant.hgrad(u, z, pm, pn)\n",
    "zeta = - to.diffeta(u,pn,z,z_w)\n",
    "\n",
    "#N2 = octant.shrink(N2, np.shape(zeta))\n",
    "#M2 = octant.shrink(M2, np.shape(zeta))\n",
    "#z = octant.shrink(z, np.shape(zeta))\n",
    "#density = octant.shrink(density, np.shape(zeta))\n",
    "\n",
    "N2 = to.rho2v(N2)\n",
    "M2 = to.rho2v(M2)\n",
    "z = to.rho2v(z)\n",
    "density = to.rho2v(density)\n"
   ]
  },
  {
   "cell_type": "code",
   "execution_count": 33,
   "metadata": {},
   "outputs": [],
   "source": [
    "# Reshape\n",
    "N2 = np.mean(N2[:,:,:], axis=-1)\n",
    "M2 = np.mean(M2[:,:,:], axis=-1)\n",
    "zeta = np.mean(zeta[:,:,:], axis=-1)\n",
    "density = np.mean(density[:,:,:], axis=-1)\n",
    "z = np.mean(z[:,:,:], axis=-1)\n",
    "y = 0.5*(y_rho[1:,0]+y_rho[:-1,0])*np.ones_like(z)\n",
    "\n",
    "Ro_g = zeta/f\n",
    "Ri_g = N2*(f**2)/(M2**2)"
   ]
  },
  {
   "cell_type": "markdown",
   "metadata": {},
   "source": [
    "# 3. Make triangulation for interpolation"
   ]
  },
  {
   "cell_type": "code",
   "execution_count": 34,
   "metadata": {},
   "outputs": [],
   "source": [
    "# triangulation\n",
    "\n",
    "from matplotlib import tri\n",
    "\n",
    "ta = tri.Triangulation(y.flatten(), z.flatten())\n",
    "\n",
    "interp_Ro = tri.LinearTriInterpolator(ta, Ro_g.flatten())\n",
    "interp_Ri = tri.LinearTriInterpolator(ta, Ri_g.flatten())\n",
    "interp_N2 = tri.LinearTriInterpolator(ta, N2.flatten())\n",
    "interp_M2 = tri.LinearTriInterpolator(ta, M2.flatten())\n",
    "interp_z = tri.LinearTriInterpolator(ta, z.flatten())"
   ]
  },
  {
   "cell_type": "markdown",
   "metadata": {},
   "source": [
    "# 4. Ray-tracing functions"
   ]
  },
  {
   "cell_type": "code",
   "execution_count": 35,
   "metadata": {},
   "outputs": [],
   "source": [
    "def ray_tracing_RHS(t,y, pm=1., omega=2*np.pi/86400.):\n",
    "    \n",
    "    Roi = interp_Ro(t,y.real[0])\n",
    "    Rii = interp_Ri(t,y.real[0])\n",
    "    N2i = interp_N2(t,y.real[0])\n",
    "    M2i = interp_M2(t,y.real[0])\n",
    "\n",
    "    omega_min=f*np.sqrt(1+Roi-1./Rii)\n",
    "\n",
    "    iso_slope=M2i/N2i\n",
    "\n",
    "    if omega_min<=omega:\n",
    "        lamda = iso_slope + pm*np.sqrt((omega**2-omega_min**2)/N2i)\n",
    "    else:\n",
    "        lamda = np.nan\n",
    "        \n",
    "    return lamda"
   ]
  },
  {
   "cell_type": "code",
   "execution_count": 36,
   "metadata": {},
   "outputs": [],
   "source": [
    "from scipy.integrate import ode\n",
    "\n",
    "def calc_oneray(x0, z0, pm=1.0, direction='Left'):\n",
    "    r = ode(ray_tracing_RHS).set_integrator('zvode', method='bdf')\n",
    "    r.set_initial_value(z0, x0).set_f_params(pm)\n",
    "\n",
    "    if direction=='Left':\n",
    "        x1 = 0\n",
    "        dt = -500.\n",
    "        xray = []\n",
    "        zray = []\n",
    "        while r.successful() and r.t > x1:\n",
    "            xray.append(r.t+dt)\n",
    "            zray.append(r.integrate(r.t+dt))\n",
    "            \n",
    "    elif direction=='Right':\n",
    "        x1 = 200e3\n",
    "        dt = 500.\n",
    "        xray = []\n",
    "        zray = []\n",
    "        while r.successful() and r.t < x1:\n",
    "            xray.append(r.t+dt)\n",
    "            zray.append(r.integrate(r.t+dt))       \n",
    "\n",
    "    xray = np.asarray(xray)\n",
    "    zray = np.asarray(zray)\n",
    "    \n",
    "    return xray, zray"
   ]
  },
  {
   "cell_type": "code",
   "execution_count": 37,
   "metadata": {},
   "outputs": [],
   "source": [
    "def calc_ray(x0, z0, ref=0, pm=1.0, direction=\"Left\"):\n",
    "    xray0, zray0 = calc_oneray(x0, z0, pm=pm, direction=\"Left\")\n",
    "    zray0 = zray0[:,0]\n",
    "\n",
    "    if ref==0:\n",
    "        xray = xray0\n",
    "        zray = zray0\n",
    "    else:\n",
    "        for nnn in range(ref):\n",
    "            if nnn%2==0: \n",
    "                direc = \"Right\"\n",
    "            else:\n",
    "                direc = \"Left\"\n",
    "            pm=-pm\n",
    "            x0 = xray0[-2]\n",
    "            z0 = zray0[-2]\n",
    "            xray1, zray1 = calc_oneray(x0, z0, pm=pm, direction=direc)\n",
    "            zray1 = zray1[:,0]\n",
    "\n",
    "            xray = np.hstack((xray0[:-2], xray1))\n",
    "            zray = np.hstack((zray0[:-2], zray1))\n",
    "    \n",
    "    return xray, zray"
   ]
  },
  {
   "cell_type": "markdown",
   "metadata": {},
   "source": [
    "# 5. Make plots"
   ]
  },
  {
   "cell_type": "code",
   "execution_count": 38,
   "metadata": {},
   "outputs": [
    {
     "name": "stderr",
     "output_type": "stream",
     "text": [
      "/venv/py3-phyocean/lib/python3.6/site-packages/scipy/integrate/_ode.py:1012: UserWarning: zvode: Excess work done on this call. (Perhaps wrong MF.)\n",
      "  self.messages.get(istate, unexpected_istate_msg)))\n",
      "/venv/py3-phyocean/lib/python3.6/site-packages/scipy/integrate/_ode.py:1012: UserWarning: zvode: Repeated convergence failures. (Perhaps bad Jacobian supplied or wrong choice of MF or tolerances.)\n",
      "  self.messages.get(istate, unexpected_istate_msg)))\n",
      "/venv/py3-phyocean/lib/python3.6/site-packages/numpy/core/_asarray.py:85: ComplexWarning: Casting complex values to real discards the imaginary part\n",
      "  return array(a, dtype, copy=False, order=order)\n",
      "/venv/py3-phyocean/lib/python3.6/site-packages/scipy/integrate/_ode.py:1012: UserWarning: zvode: Excess work done on this call. (Perhaps wrong MF.)\n",
      "  self.messages.get(istate, unexpected_istate_msg)))\n",
      "/venv/py3-phyocean/lib/python3.6/site-packages/numpy/core/_asarray.py:85: ComplexWarning: Casting complex values to real discards the imaginary part\n",
      "  return array(a, dtype, copy=False, order=order)\n",
      "/venv/py3-phyocean/lib/python3.6/site-packages/scipy/integrate/_ode.py:1012: UserWarning: zvode: Excess work done on this call. (Perhaps wrong MF.)\n",
      "  self.messages.get(istate, unexpected_istate_msg)))\n",
      "/venv/py3-phyocean/lib/python3.6/site-packages/numpy/core/_asarray.py:85: ComplexWarning: Casting complex values to real discards the imaginary part\n",
      "  return array(a, dtype, copy=False, order=order)\n"
     ]
    },
    {
     "data": {
      "text/plain": [
       "(-80.0, 0.0)"
      ]
     },
     "execution_count": 38,
     "metadata": {},
     "output_type": "execute_result"
    },
    {
     "data": {
      "image/png": "[encoded data removed]",
      "text/plain": [
       "<Figure size 504x324 with 2 Axes>"
      ]
     },
     "metadata": {
      "needs_background": "light"
     },
     "output_type": "display_data"
    }
   ],
   "source": [
    "fig = plt.figure(figsize=(7,4.5))\n",
    "\n",
    "ax2 = fig.add_subplot(1,1,1)\n",
    "\n",
    "# Conduct ray-tracing and plot rays\n",
    "for x0 in [119.5e3, 114.5e3, 109.5e3]:\n",
    "    z0=-2\n",
    "    xray, zray = calc_ray(x0, z0, ref=1, direction=\"Left\", pm=1.)\n",
    "    ax2.plot(-xray[(xray>60e3)&(xray<120e3)]/1e3, zray[(xray>60e3)&(xray<120e3)], 'r-')\n",
    "    ax2.plot(-x0/1e3, z0, 'k*')\n",
    "\n",
    "    \n",
    "# Plot background density     \n",
    "pcm2 = ax2.contourf(-y/1e3, z,  density, \\\n",
    "                    levels=np.arange(1008, 1032,2), cmap='jet',  extend='both')\n",
    "\n",
    "ax2.set_ylabel('Depth [m]', fontsize=14)\n",
    "ax2.set_xlabel('Across-shore distance [km]', fontsize=14)\n",
    "ax2.patch.set_facecolor([0.9,0.9,0.9])\n",
    "\n",
    "cax = fig.add_axes([0.55, 0.28, 0.3, 0.02])\n",
    "cb = plt.colorbar(pcm2, cax=cax, \n",
    "                  orientation='horizontal', ticks=np.linspace(1010, 1030,5))\n",
    "cb.set_label('Density [kg/m$^3$]', fontsize=12)\n",
    "\n",
    "\n",
    "ax2.set_xlim([-150,0])\n",
    "ax2.set_ylim([-80,0])\n",
    "\n",
    "\n",
    "# plt.savefig(\"RT_105f.png\", dpi=200)"
   ]
  },
  {
   "cell_type": "code",
   "execution_count": null,
   "metadata": {},
   "outputs": [],
   "source": []
  }
 ],
 "metadata": {
  "kernelspec": {
   "display_name": "Python 3",
   "language": "python",
   "name": "python3"
  },
  "language_info": {
   "codemirror_mode": {
    "name": "ipython",
    "version": 3
   },
   "file_extension": ".py",
   "mimetype": "text/x-python",
   "name": "python",
   "nbconvert_exporter": "python",
   "pygments_lexer": "ipython3",
   "version": "3.6.9"
  }
 },
 "nbformat": 4,
 "nbformat_minor": 4
}
